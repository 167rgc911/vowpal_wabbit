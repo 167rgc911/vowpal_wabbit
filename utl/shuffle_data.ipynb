{
 "cells": [
  {
   "cell_type": "code",
   "execution_count": 1,
   "metadata": {},
   "outputs": [],
   "source": [
    "import pandas as pd\n",
    "import math\n",
    "name = 'BNG_auto_price'\n",
    "percent = 0.80\n",
    "df = pd.read_csv(name+'.dat', header=None)\n",
    "ds = df.sample(frac=1)\n",
    "ds_train = ds[0:math.floor(df.size*percent)]\n",
    "ds_test = ds[math.floor(df.size*percent):]\n",
    "\n"
   ]
  },
  {
   "cell_type": "code",
   "execution_count": null,
   "metadata": {},
   "outputs": [],
   "source": [
    "ds.to_csv(name+'_new.dat', header = False, index=False)\n",
    "ds_train.to_csv(name+'_train.dat', header = False, index=False)\n",
    "ds_test.to_csv(name+'_test.dat', header = False, index=False)"
   ]
  },
  {
   "cell_type": "code",
   "execution_count": 74,
   "metadata": {},
   "outputs": [],
   "source": [
    "# import pandas as pd\n",
    "# import math\n",
    "# name = 'ds_5'\n",
    "# percent = 0.80\n",
    "# df = pd.read_csv('ds_synthetic_1000000_5.vw', header=None)\n",
    "# ds = df#.sample(frac=1)\n",
    "# ds_train = ds[0:math.floor(df.size*percent)]\n",
    "# ds_test = ds[math.floor(df.size*percent):]\n"
   ]
  },
  {
   "cell_type": "code",
   "execution_count": 75,
   "metadata": {},
   "outputs": [],
   "source": [
    "# ds.to_csv(name+'_new.dat', header = False, index=False)\n",
    "# ds_train.to_csv(name+'_train.dat', header = False, index=False)\n",
    "# ds_test.to_csv(name+'_test.dat', header = False, index=False)"
   ]
  },
  {
   "cell_type": "code",
   "execution_count": 51,
   "metadata": {},
   "outputs": [],
   "source": []
  },
  {
   "cell_type": "code",
   "execution_count": null,
   "metadata": {},
   "outputs": [],
   "source": []
  }
 ],
 "metadata": {
  "kernelspec": {
   "display_name": "Python 3",
   "language": "python",
   "name": "python3"
  },
  "language_info": {
   "codemirror_mode": {
    "name": "ipython",
    "version": 3
   },
   "file_extension": ".py",
   "mimetype": "text/x-python",
   "name": "python",
   "nbconvert_exporter": "python",
   "pygments_lexer": "ipython3",
   "version": "3.6.10"
  }
 },
 "nbformat": 4,
 "nbformat_minor": 2
}
