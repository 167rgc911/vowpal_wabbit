{
 "cells": [
  {
   "cell_type": "code",
   "execution_count": 4,
   "metadata": {},
   "outputs": [],
   "source": [
    "import csv\n",
    "import sys\n",
    "import pandas as pd\n",
    "import math\n",
    "\n",
    "name = 'zurich' # or: black_friday, BNG_wisconsin, BNG_auto_price, BNG_cpu_act  \n",
    "\n",
    "flag = 0\n",
    "open(name+'.dat', mode='w')\n",
    "with open(name+'.csv') as csvfile:\n",
    "    readCSV = csv.reader(csvfile, delimiter=',')\n",
    "    minv = sys.float_info.max\n",
    "    maxv = sys.float_info.min\n",
    "    for row in readCSV:\n",
    "        if (flag > 1):\n",
    "            row.insert(1,'|')\n",
    "            if (name == 'zurich'):\n",
    "                del row[7] \n",
    "            else:\n",
    "                tmp = row[len(row)-1]\n",
    "                row[len(row) - 1] = row[0]\n",
    "                row[0] = tmp\n",
    "            if (row[0] == '|'): \n",
    "                print(flag)\n",
    "                break\n",
    "            with open(name+'.dat', mode='a') as employee_file:\n",
    "                employee_writer = csv.writer(employee_file, delimiter=' ', quotechar='\"', quoting=csv.QUOTE_MINIMAL)\n",
    "                employee_writer.writerow(row)\n",
    "            minv = min(minv, float(row[0]))\n",
    "            maxv = max(maxv, float(row[0]))\n",
    "        flag += 1 "
   ]
  },
  {
   "cell_type": "code",
   "execution_count": 7,
   "metadata": {},
   "outputs": [
    {
     "name": "stdout",
     "output_type": "stream",
     "text": [
      "min_value =  185.0\n",
      "max_value =  23959.0\n"
     ]
    }
   ],
   "source": [
    "print('min_value = ', minv)\n",
    "print('max_value = ', maxv)"
   ]
  },
  {
   "cell_type": "code",
   "execution_count": 6,
   "metadata": {},
   "outputs": [],
   "source": [
    "percent = 0.80\n",
    "df = pd.read_csv(name+'.dat', header=None)\n",
    "ds = df.sample(frac=1)\n",
    "ds_train = ds[0:math.floor(df.size*percent)]\n",
    "ds_test = ds[math.floor(df.size*percent):]\n",
    "\n",
    "ds.to_csv(name+'.dat', header = False, index=False)\n",
    "ds_train.to_csv(name+'_train.dat', header = False, index=False)\n",
    "ds_test.to_csv(name+'_test.dat', header = False, index=False)"
   ]
  },
  {
   "cell_type": "code",
   "execution_count": null,
   "metadata": {},
   "outputs": [],
   "source": []
  }
 ],
 "metadata": {
  "kernelspec": {
   "display_name": "Python 3",
   "language": "python",
   "name": "python3"
  },
  "language_info": {
   "codemirror_mode": {
    "name": "ipython",
    "version": 3
   },
   "file_extension": ".py",
   "mimetype": "text/x-python",
   "name": "python",
   "nbconvert_exporter": "python",
   "pygments_lexer": "ipython3",
   "version": "3.6.10"
  }
 },
 "nbformat": 4,
 "nbformat_minor": 2
}
