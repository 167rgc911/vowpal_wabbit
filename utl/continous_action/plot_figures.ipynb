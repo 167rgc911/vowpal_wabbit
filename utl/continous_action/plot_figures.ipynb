{
 "cells": [
  {
   "cell_type": "code",
   "execution_count": 153,
   "metadata": {},
   "outputs": [],
   "source": [
    "import numpy as np\n",
    "import matplotlib.pyplot as plt\n",
    "from get_online_results import EvaluatorOnline\n",
    "from get_offline_results import EvaluatorOffline\n",
    "\n",
    "XSMALL_SIZE = 14\n",
    "SMALL_SIZE = 14\n",
    "MEDIUM_SIZE = 14\n",
    "BIGGER_SIZE = 18\n",
    "\n",
    "plt.rc('font', size=SMALL_SIZE)          # controls default text sizes\n",
    "plt.rc('axes', titlesize=MEDIUM_SIZE)     # fontsize of the axes title\n",
    "plt.rc('axes', labelsize=MEDIUM_SIZE)    # fontsize of the x and y labels\n",
    "plt.rc('xtick', labelsize=MEDIUM_SIZE)    # fontsize of the tick labels\n",
    "plt.rc('ytick', labelsize=MEDIUM_SIZE)    # fontsize of the tick labels\n",
    "plt.rc('legend', fontsize=SMALL_SIZE)    # legend fontsize\n",
    "plt.rc('figure', titlesize=BIGGER_SIZE)  # fontsize of the figure title"
   ]
  },
  {
   "cell_type": "code",
   "execution_count": 156,
   "metadata": {},
   "outputs": [
    {
     "name": "stdout",
     "output_type": "stream",
     "text": [
      "BNG_wisconsin\n",
      "max_time =  5000.0\n",
      "model, n, h, loss, time = cats, 4096.0, 128.0, 0.173245, 14.71\n",
      "C.I. = 0.17252435550541706, 0.1739680546281629\n",
      "model, n, h, loss, time = disc_tree, 8.0, 0, 0.194564, 4.0\n",
      "C.I. = 0.19382057178429749, 0.19530961873323882\n",
      "model, n, h, loss, time = disc_linear, 4.0, 0, 0.172323, 7.15\n",
      "C.I. = 0.1716256530841535, 0.173022619483447\n",
      "black_friday\n",
      "max_time =  5000.0\n",
      "model, n, h, loss, time = cats, 64.0, 4.0, 0.185229, 1.17\n",
      "C.I. = 0.18339626667679604, 0.18707604839899872\n",
      "model, n, h, loss, time = disc_tree, 8.0, 0, 0.180672, 0.33\n",
      "C.I. = 0.17883831238075984, 0.18252051287523674\n",
      "model, n, h, loss, time = disc_linear, 4.0, 0, 0.185129, 0.43\n",
      "C.I. = 0.1832743253515882, 0.18699834677064053\n",
      "BNG_auto_price\n",
      "max_time =  5000.0\n",
      "model, n, h, loss, time = cats, 1024.0, 32.0, 0.10946, 15.27\n",
      "C.I. = 0.10888329817985999, 0.11003941615193658\n",
      "model, n, h, loss, time = disc_tree, 8.0, 0, 0.14226, 3.23\n",
      "C.I. = 0.14160645988354242, 0.14291608887229634\n",
      "model, n, h, loss, time = disc_linear, 8.0, 0, 0.108524, 4.48\n",
      "C.I. = 0.1079569726138683, 0.10909367751607058\n",
      "BNG_cpu_act\n",
      "max_time =  5000.0\n",
      "model, n, h, loss, time = cats, 8192.0, 128.0, 0.055658, 13.32\n",
      "C.I. = 0.05524042158523795, 0.056078588792391026\n",
      "model, n, h, loss, time = disc_tree, 8.0, 0, 0.088844, 3.22\n",
      "C.I. = 0.08833314935758924, 0.08935755229090125\n",
      "model, n, h, loss, time = disc_linear, 8.0, 0, 0.057062, 5.57\n",
      "C.I. = 0.05665478026994569, 0.05747200647377715\n",
      "ds_5\n",
      "max_time =  5000.0\n",
      "model, n, h, loss, time = cats, 256.0, 2.0, 0.094689, 7.51\n",
      "C.I. = 0.0941487322086408, 0.09523208052629706\n",
      "model, n, h, loss, time = disc_tree, 8.0, 0, 0.095645, 2.15\n",
      "C.I. = 0.09510046785518435, 0.09619235715723706\n",
      "model, n, h, loss, time = disc_linear, 4.0, 0, 0.093489, 2.38\n",
      "C.I. = 0.09292600922691212, 0.09405509026259984\n",
      "zurich\n",
      "max_time =  50000.0\n",
      "model, n, h, loss, time = cats, 8192.0, 16.0, 0.024919, 60.07\n",
      "C.I. = 0.024791943192186666, 0.025046700012950063\n",
      "model, n, h, loss, time = disc_tree, 128.0, 0, 0.033597, 27.63\n",
      "C.I. = 0.033449476565627, 0.03374516002286532\n",
      "model, n, h, loss, time = disc_linear, 16.0, 0, 0.030744, 32.56\n",
      "C.I. = 0.030602467996980014, 0.0308861744709229\n"
     ]
    }
   ],
   "source": [
    "# online\n",
    "dir_ = \"../../results/\"\n",
    "data_names = [\"BNG_wisconsin\", \"black_friday\", \"BNG_auto_price\", \"BNG_cpu_act\", \"ds_5\", \"zurich\"]\n",
    "# data_names = [\"black_friday\"]\n",
    "\n",
    "bars_cats = [0] * len(data_names)\n",
    "bars_tree = [0] * len(data_names)\n",
    "bars_lin = [0] * len(data_names)\n",
    "y_cats = [ [0] * len(data_names) for i in range(2) ]\n",
    "y_tree = [ [0] * len(data_names) for i in range(2) ]\n",
    "y_lin = [ [0] * len(data_names) for i in range(2) ]\n",
    "\n",
    "for i, name in enumerate(data_names):\n",
    "    print(name)\n",
    "    data_file = dir_ + name + \"_online_validation.txt\"\n",
    "    online_results = EvaluatorOnline(data_file, 0.05, False)\n",
    "    online_results.eval()\n",
    "    bars_cats[i], y_cats[0][i], y_cats[1][i] = online_results.return_loss(\"cats\")\n",
    "    bars_tree[i], y_tree[0][i], y_tree[1][i] = online_results.return_loss(\"disc_tree\")\n",
    "    bars_lin[i], y_lin[0][i], y_lin[1][i] = online_results.return_loss(\"disc_linear\")\n"
   ]
  },
  {
   "cell_type": "code",
   "execution_count": 254,
   "metadata": {},
   "outputs": [
    {
     "data": {
      "image/png": "[encoded data removed]",
      "text/plain": [
       "<Figure size 432x288 with 1 Axes>"
      ]
     },
     "metadata": {
      "needs_background": "light"
     },
     "output_type": "display_data"
    }
   ],
   "source": [
    "# online\n",
    "# width of the bars\n",
    "barWidth = 0.2\n",
    " \n",
    "yer_cats = (list(np.subtract(bars_cats, y_cats[0]).transpose()), list(np.subtract(y_cats[1], bars_cats).transpose()))\n",
    "yer_tree = (list(np.subtract(bars_tree, y_tree[0]).transpose()), list(np.subtract(y_tree[1], bars_tree).transpose()))\n",
    "yer_lin = (list(np.subtract(bars_lin, y_lin[0]).transpose()), list(np.subtract(y_lin[1], bars_lin).transpose()))\n",
    "\n",
    "# The x position of bars\n",
    "r1 = np.arange(len(bars_cats))\n",
    "r2 = [x + barWidth for x in r1]\n",
    "r3 = [x + 2*barWidth for x in r1]\n",
    "\n",
    "# Create blue bars\n",
    "plt.bar(r1, bars_cats, width = barWidth, color = 'steelblue', edgecolor = 'black', yerr=yer_cats, capsize=5, label='CATS')\n",
    " \n",
    "# Create cyan bars\n",
    "plt.bar(r2, bars_lin, width = barWidth, color = 'coral', edgecolor = 'black', yerr=yer_lin, capsize=5, label='Discretized Linear')\n",
    "\n",
    "# Create red bars\n",
    "plt.bar(r3, bars_tree, width = barWidth, color = 'green', edgecolor = 'black', yerr=yer_tree, capsize=5, label='Discretized Tree')\n",
    " \n",
    "# general layout\n",
    "plt.xticks([r + barWidth for r in range(len(bars_cats))], ['Wis', 'Friday', 'Price', 'Cpu', 'Ds', 'Zurich'])\n",
    "plt.ylabel('Absolute Loss')\n",
    "plt.xlabel('Datasets')\n",
    "plt.legend(loc='upper center', bbox_to_anchor= (0.73, 1.03))\n",
    "\n",
    "# plt.grid()\n",
    "# Show graphic\n",
    "fig = plt.gcf()\n",
    "plt.show()\n",
    "fig.savefig(dir_ + 'abs_online.png', format='pdf', dpi=100, bbox_inches='tight')"
   ]
  },
  {
   "cell_type": "code",
   "execution_count": 255,
   "metadata": {},
   "outputs": [
    {
     "name": "stdout",
     "output_type": "stream",
     "text": [
      "BNG_wisconsin\n",
      "0.17291528372268655\n",
      "black_friday\n",
      "0.17830500708561633\n",
      "BNG_auto_price\n",
      "0.10870415038260625\n",
      "BNG_cpu_act\n",
      "0.05281622603481378\n",
      "ds_5\n",
      "0.08526858097278117\n",
      "zurich\n",
      "0.024476349538704794\n"
     ]
    }
   ],
   "source": [
    "# offline\n",
    "dir_ = \"../../results/\"\n",
    "data_names = [\"BNG_wisconsin\", \"black_friday\", \"BNG_auto_price\", \"BNG_cpu_act\", \"ds_5\", \"zurich\"]\n",
    "# data_names = [\"black_friday\"]\n",
    "\n",
    "bars_init = [0] * len(data_names)\n",
    "bars_opt = [0] * len(data_names)\n",
    "y_init = [ [0] * len(data_names) for i in range(2) ]\n",
    "y_opt = [ [0] * len(data_names) for i in range(2) ]\n",
    "\n",
    "for i, name in enumerate(data_names):\n",
    "    print(name)\n",
    "    srm_file = dir_ + name + \"_offline_srm.txt\"\n",
    "    test_file = dir_ + name + \"_offline_test.txt\"\n",
    "    offline_results = EvaluatorOffline(srm_file, test_file, 0.1, 0.05, True)\n",
    "    offline_results.eval()\n",
    "    bars_init[i], y_init[0][i], y_init[1][i] = offline_results.return_loss(\"init\")\n",
    "    bars_opt[i], y_opt[0][i], y_opt[1][i] = offline_results.return_loss(\"opt\")\n",
    "    print(bars_opt[i])\n",
    "        \n"
   ]
  },
  {
   "cell_type": "code",
   "execution_count": 256,
   "metadata": {},
   "outputs": [
    {
     "data": {
      "image/png": "[encoded data removed]",
      "text/plain": [
       "<Figure size 432x288 with 1 Axes>"
      ]
     },
     "metadata": {
      "needs_background": "light"
     },
     "output_type": "display_data"
    }
   ],
   "source": [
    "# offline\n",
    "# width of the bars\n",
    "barWidth = 0.2\n",
    "\n",
    "yer_init = (list(np.subtract(bars_init, y_init[0]).transpose()), list(np.subtract(y_init[1], bars_init).transpose()))\n",
    "yer_opt = (list(np.subtract(bars_opt, y_opt[0]).transpose()), list(np.subtract(y_opt[1], bars_opt).transpose()))\n",
    "\n",
    "# The x position of bars\n",
    "r1 = np.arange(len(bars_init))\n",
    "r2 = [x + 1.5*barWidth for x in r1]\n",
    "\n",
    "# Create blue bars\n",
    "plt.bar(r1, bars_init, width = barWidth, color = 'chocolate', edgecolor = 'black', yerr=yer_init, capsize=5, label='Initial model')\n",
    " \n",
    "# Create cyan bars\n",
    "plt.bar(r2, bars_opt, width = barWidth, color = 'darkcyan', edgecolor = 'black', yerr=yer_opt, capsize=5, label='Off-policy optimization model')\n",
    "\n",
    "\n",
    "# general layout\n",
    "plt.xticks([r + barWidth for r in range(len(bars_init))], ['Wis', 'Friday', 'Price', 'Cpu', 'Ds', 'Zurich'])\n",
    "plt.ylabel('Absolute Loss')\n",
    "plt.xlabel('Datasets')\n",
    "plt.legend(loc='upper center', bbox_to_anchor= (0.48, 1.055))\n",
    "\n",
    "# plt.grid()\n",
    "# Show graphic\n",
    "fig = plt.gcf()\n",
    "plt.show()\n",
    "fig.savefig(dir_ + 'abs_offline_srm.png', format='pdf', dpi=100, bbox_inches='tight')"
   ]
  },
  {
   "cell_type": "code",
   "execution_count": 189,
   "metadata": {},
   "outputs": [
    {
     "name": "stdout",
     "output_type": "stream",
     "text": [
      "[4.0, 8.0, 16.0, 32.0, 64.0, 128.0, 256.0, 512.0, 1024.0, 2048.0, 4096.0, 8192.0]\n"
     ]
    },
    {
     "data": {
      "image/png": "[encoded data removed]",
      "text/plain": [
       "<Figure size 432x288 with 1 Axes>"
      ]
     },
     "metadata": {
      "needs_background": "light"
     },
     "output_type": "display_data"
    }
   ],
   "source": [
    "# time 1\n",
    "# width of the bars\n",
    "barWidth = 0.4\n",
    " \n",
    "name = \"zurich\"\n",
    "n = 0\n",
    "hp = 1\n",
    "h = 1/4\n",
    "data_file = dir_ + name + \"_online_validation.txt\"\n",
    "online_results = EvaluatorOnline(data_file, 0.05, True)\n",
    "online_results.eval()\n",
    "bars1, k_ = online_results.getTime(\"cats\", n, hp, h, \"h\")\n",
    "print(k_)\n",
    "\n",
    "bars1 = bars1[:9]\n",
    "# The x position of bars\n",
    "r1 = np.arange(len(bars1))\n",
    "\n",
    "# Create blue bars\n",
    "plt.bar(r1+barWidth, bars1, width = barWidth, color = 'indigo', edgecolor = 'black', label='Time(s)')\n",
    " \n",
    "\n",
    "# general layout\n",
    "plt.xticks([r + barWidth for r in range(len(bars1))], ['$\\dfrac{1}{2^2}$','$\\dfrac{1}{2^3}$','$\\dfrac{1}{2^4}$','$\\dfrac{1}{2^5}$','$\\dfrac{1}{2^6}$','$\\dfrac{1}{2^7}$',\\\n",
    "                                                       '$\\dfrac{1}{2^8}$','$\\dfrac{1}{2^9}$', '$\\dfrac{1}{2^{10}}$', '$\\dfrac{1}{2^{11}}$', '$\\dfrac{1}{2^{12}}$', '$\\dfrac{1}{2^{13}}$'])\n",
    "plt.ylabel('Training time (s)')\n",
    "plt.xlabel('Discretization scale ($\\dfrac{1}{K}$)')\n",
    "# plt.legend(loc='upper center', bbox_to_anchor= (0.5, 1.18))\n",
    "\n",
    "# plt.grid()\n",
    "# Show graphic\n",
    "fig = plt.gcf()\n",
    "plt.show()\n",
    "fig.savefig(dir_ + 'timen.png', format='pdf', dpi=100, bbox_inches='tight')"
   ]
  },
  {
   "cell_type": "code",
   "execution_count": 190,
   "metadata": {},
   "outputs": [
    {
     "name": "stdout",
     "output_type": "stream",
     "text": [
      "[  1.22070312e-04   2.44140625e-04   4.88281250e-04   9.76562500e-04\n",
      "   1.95312500e-03   3.90625000e-03   7.81250000e-03   1.56250000e-02\n",
      "   3.12500000e-02   6.25000000e-02   1.25000000e-01   2.50000000e-01]\n"
     ]
    },
    {
     "data": {
      "image/png": "[encoded data removed]",
      "text/plain": [
       "<Figure size 432x288 with 1 Axes>"
      ]
     },
     "metadata": {
      "needs_background": "light"
     },
     "output_type": "display_data"
    }
   ],
   "source": [
    "# time 2\n",
    "# width of the bars\n",
    "barWidth = 0.4\n",
    "\n",
    "name = \"zurich\"\n",
    "n = 8192\n",
    "hp = 0\n",
    "h = 0\n",
    "data_file = dir_ + name + \"_online_validation.txt\"\n",
    "online_results = EvaluatorOnline(data_file, 0.05, True)\n",
    "online_results.eval()\n",
    "bars1, h_ = online_results.getTime(\"cats\", n, hp, h, \"n\")\n",
    "print(h_ / (np.ones(len(h_)) * n))\n",
    " \n",
    "# The x position of bars\n",
    "bars1 = bars1[2:11]\n",
    "r1 = np.arange(len(bars1))\n",
    "\n",
    "# Create blue bars\n",
    "plt.bar(r1+barWidth, bars1, width = barWidth, color = 'indigo', edgecolor = 'black', label='Time(s)')\n",
    " \n",
    "\n",
    "# general layout\n",
    "plt.xticks([r + barWidth for r in range(len(bars1))], ['$\\dfrac{1}{2^{11}}$','$\\dfrac{1}{2^{10}}$','$\\dfrac{1}{2^{9}}$','$\\dfrac{1}{2^{8}}$',\\\n",
    "                                                       '$\\dfrac{1}{2^{7}}$','$\\dfrac{1}{2^{6}}$', '$\\dfrac{1}{2^{5}}$','$\\dfrac{1}{2^{4}}$','$\\dfrac{1}{2^{3}}$','$\\dfrac{1}{2^{2}}$'])\n",
    "plt.ylabel('Training time (s)')\n",
    "plt.xlabel('Bandwidth ($h$)')\n",
    "# plt.legend(loc='upper center', bbox_to_anchor= (0.5, 1))\n",
    "\n",
    "# plt.grid()\n",
    "# Show graphic\n",
    "fig = plt.gcf()\n",
    "plt.show()\n",
    "fig.savefig(dir_ + 'timeh.png', format='pdf', dpi=100,bbox_inches='tight')"
   ]
  },
  {
   "cell_type": "code",
   "execution_count": 191,
   "metadata": {},
   "outputs": [
    {
     "name": "stdout",
     "output_type": "stream",
     "text": [
      "[4.0, 8.0, 16.0, 32.0, 64.0, 128.0, 256.0, 512.0, 1024.0, 2048.0, 4096.0, 8192.0]\n",
      "[2.0, 4.0, 8.0, 16.0, 32.0, 64.0, 128.0, 256.0, 512.0, 1024.0, 2048.0, 4096.0, 8192.0]\n"
     ]
    },
    {
     "data": {
      "image/png": "[encoded data removed]",
      "text/plain": [
       "<Figure size 432x288 with 1 Axes>"
      ]
     },
     "metadata": {
      "needs_background": "light"
     },
     "output_type": "display_data"
    }
   ],
   "source": [
    "# time 3 \n",
    "# width of the bars\n",
    "barWidth = 0.4\n",
    "\n",
    "name = \"zurich\"\n",
    "n = 0\n",
    "hp = 0\n",
    "h = 1/4\n",
    "data_file = dir_ + name + \"_online_validation.txt\"\n",
    "online_results = EvaluatorOnline(data_file, 0.05, True)\n",
    "online_results.eval()\n",
    "bars1, k_ = online_results.getTime(\"cats\", n, hp, h, \"h\")\n",
    "print(k_)\n",
    "n = 0\n",
    "hp = 0\n",
    "h = 0\n",
    "bars2, k_2 = online_results.getTime(\"disc_linear\", n, hp, h, \"hp\")\n",
    "print(k_2)\n",
    "\n",
    "\n",
    "bars1 = bars1[0:9]\n",
    "bars2 = bars2[1:10]\n",
    "k_2 = k_2[1:10]\n",
    "\n",
    "\n",
    "# The x position of bars\n",
    "r1 = np.arange(len(bars1))\n",
    "r2 = [x + barWidth for x in r1]\n",
    "\n",
    "# Create blue bars\n",
    "plt.bar(r1, bars1, width = barWidth, color = 'indigo', edgecolor = 'black', label='CATS')\n",
    " \n",
    "# Create cyan bars\n",
    "plt.bar(r2, bars2, width = barWidth, color = 'chocolate', edgecolor = 'black', label='Discretized Linear')\n",
    "\n",
    "\n",
    "# general layout\n",
    "plt.xticks([r + barWidth for r in range(len(bars1))], ['$\\dfrac{1}{2^2}$','$\\dfrac{1}{2^3}$','$\\dfrac{1}{2^4}$','$\\dfrac{1}{2^5}$','$\\dfrac{1}{2^6}$','$\\dfrac{1}{2^7}$','$\\dfrac{1}{2^8}$','$\\dfrac{1}{2^9}$'\n",
    "                                                      ,'$\\dfrac{1}{2^{10}}$','$\\dfrac{1}{2^{11}}$','$\\dfrac{1}{2^{12}}$', '$\\dfrac{1}{2^{13}}$'])\n",
    "plt.ylabel('Training time (s)')\n",
    "plt.xlabel('Discretization scale ($\\dfrac{1}{K}$)')\n",
    "plt.legend(loc='upper center', bbox_to_anchor= (0.5, 1.28))\n",
    "\n",
    "# plt.grid()\n",
    "# Show graphic\n",
    "fig = plt.gcf()\n",
    "plt.show()\n",
    "fig.savefig(dir_ + 'timenn.png',  format='pdf', dpi=100, bbox_inches='tight')"
   ]
  },
  {
   "cell_type": "code",
   "execution_count": null,
   "metadata": {},
   "outputs": [],
   "source": []
  },
  {
   "cell_type": "code",
   "execution_count": null,
   "metadata": {},
   "outputs": [],
   "source": []
  }
 ],
 "metadata": {
  "kernelspec": {
   "display_name": "Python 3",
   "language": "python",
   "name": "python3"
  },
  "language_info": {
   "codemirror_mode": {
    "name": "ipython",
    "version": 3
   },
   "file_extension": ".py",
   "mimetype": "text/x-python",
   "name": "python",
   "nbconvert_exporter": "python",
   "pygments_lexer": "ipython3",
   "version": "3.6.9"
  }
 },
 "nbformat": 4,
 "nbformat_minor": 2
}
