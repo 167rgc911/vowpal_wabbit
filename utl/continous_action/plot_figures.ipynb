{
 "cells": [
  {
   "cell_type": "code",
   "execution_count": 11,
   "metadata": {},
   "outputs": [],
   "source": [
    "import numpy as np\n",
    "import matplotlib.pyplot as plt\n",
    "from get_online_results import EvaluatorOnline\n",
    "from get_offline_results import EvaluatorOffline\n",
    "\n",
    "XSMALL_SIZE = 14\n",
    "SMALL_SIZE = 14\n",
    "MEDIUM_SIZE = 14\n",
    "BIGGER_SIZE = 18\n",
    "\n",
    "plt.rc('font', size=SMALL_SIZE)          # controls default text sizes\n",
    "plt.rc('axes', titlesize=MEDIUM_SIZE)     # fontsize of the axes title\n",
    "plt.rc('axes', labelsize=MEDIUM_SIZE)    # fontsize of the x and y labels\n",
    "plt.rc('xtick', labelsize=MEDIUM_SIZE)    # fontsize of the tick labels\n",
    "plt.rc('ytick', labelsize=MEDIUM_SIZE)    # fontsize of the tick labels\n",
    "plt.rc('legend', fontsize=SMALL_SIZE)    # legend fontsize\n",
    "plt.rc('figure', titlesize=BIGGER_SIZE)  # fontsize of the figure title"
   ]
  },
  {
   "cell_type": "code",
   "execution_count": 21,
   "metadata": {},
   "outputs": [
    {
     "name": "stdout",
     "output_type": "stream",
     "text": [
      "BNG_wisconsin\n",
      "BNG_cpu_act\n",
      "BNG_auto_price\n",
      "black_friday\n",
      "ds_5\n",
      "zurich\n",
      "error in model=cats, n=16.0, h=4.0\n"
     ]
    }
   ],
   "source": [
    "# onlne\n",
    "dir_ = \"../../results/\"\n",
    "data_names = [\"BNG_wisconsin\", \"BNG_cpu_act\", \"BNG_auto_price\", \"black_friday\", \"ds_5\", \"zurich\"]\n",
    "\n",
    "bars_cats = [0] * len(data_names)\n",
    "bars_tree = [0] * len(data_names)\n",
    "bars_lin = [0] * len(data_names)\n",
    "y_cats = [ [0] * len(data_names) for i in range(2) ]\n",
    "y_tree = [ [0] * len(data_names) for i in range(2) ]\n",
    "y_lin = [ [0] * len(data_names) for i in range(2) ]\n",
    "\n",
    "for i, name in enumerate(data_names):\n",
    "    print(name)\n",
    "    if (i != 2 and i != 4):\n",
    "        data_file = dir_ + name + \"_online_validation.txt\"\n",
    "        online_results = EvaluatorOnline(data_file, 0.05, True)\n",
    "        online_results.eval()\n",
    "        bars_cats[i], y_cats[0][i], y_cats[1][i] = online_results.return_loss(\"cats\")\n",
    "        bars_tree[i], y_tree[0][i], y_tree[1][i] = online_results.return_loss(\"disc_tree\")\n",
    "        bars_lin[i], y_lin[0][i], y_lin[1][i] = online_results.return_loss(\"disc_linear\")\n"
   ]
  },
  {
   "cell_type": "code",
   "execution_count": 22,
   "metadata": {},
   "outputs": [
    {
     "data": {
      "image/png": "[encoded data removed]",
      "text/plain": [
       "<Figure size 432x288 with 1 Axes>"
      ]
     },
     "metadata": {
      "needs_background": "light"
     },
     "output_type": "display_data"
    }
   ],
   "source": [
    "# online\n",
    "# width of the bars\n",
    "barWidth = 0.2\n",
    " \n",
    "yer_cats = (list(np.subtract(bars_cats, y_cats[0]).transpose()), list(np.subtract(y_cats[1], bars_cats).transpose()))\n",
    "yer_tree = (list(np.subtract(bars_tree, y_tree[0]).transpose()), list(np.subtract(y_tree[1], bars_tree).transpose()))\n",
    "yer_lin = (list(np.subtract(bars_lin, y_lin[0]).transpose()), list(np.subtract(y_lin[1], bars_lin).transpose()))\n",
    "\n",
    "# The x position of bars\n",
    "r1 = np.arange(len(bars_cats))\n",
    "r2 = [x + barWidth for x in r1]\n",
    "r3 = [x + 2*barWidth for x in r1]\n",
    "\n",
    "# Create blue bars\n",
    "plt.bar(r1, bars_cats, width = barWidth, edgecolor = 'black', yerr=yer_cats, capsize=5, label='CATS')\n",
    " \n",
    "# Create cyan bars\n",
    "plt.bar(r2, bars_tree, width = barWidth, color = 'coral', edgecolor = 'black', yerr=yer_tree, capsize=5, label='Discretized Linear')\n",
    "\n",
    "# Create red bars\n",
    "plt.bar(r3, bars_lin, width = barWidth, color = 'green', edgecolor = 'black', yerr=yer_lin, capsize=5, label='Discretized Tree')\n",
    " \n",
    "# general layout\n",
    "plt.xticks([r + barWidth for r in range(len(bars_cats))], ['Wis', 'Cpu','Price','Friday', 'Ds', 'Zurich'])\n",
    "plt.ylabel('Absolute Loss')\n",
    "plt.xlabel('Data sets')\n",
    "plt.legend(loc='upper center', bbox_to_anchor= (0.52, 1.36))\n",
    "\n",
    "# plt.grid()\n",
    "# Show graphic\n",
    "fig = plt.gcf()\n",
    "plt.show()\n",
    "fig.savefig(dir_ + 'abs_online.png',bbox_inches='tight')"
   ]
  },
  {
   "cell_type": "code",
   "execution_count": null,
   "metadata": {},
   "outputs": [],
   "source": [
    "# offline\n",
    "dir_ = \"../../results/\"\n",
    "data_names = [\"BNG_wisconsin\", \"BNG_cpu_act\", \"BNG_auto_price\", \"black_friday\", \"ds_5\", \"zurich\"]\n",
    "\n",
    "bars_init = [0] * len(data_names)\n",
    "bars_opt = [0] * len(data_names)\n",
    "y_init = [ [0] * len(data_names) for i in range(2) ]\n",
    "y_opt = [ [0] * len(data_names) for i in range(2) ]\n",
    "\n",
    "for i, name in enumerate(data_names):\n",
    "    print(name)\n",
    "    if (i != 2 and i != 4):\n",
    "        srm_file = dir_ + name + \"_offline_srm.txt\"\n",
    "        test_file = dir_ + name + \"_offline_test.txt\"\n",
    "        offline_results = EvaluatorOffline(srm_file, test_file, 0.05, True)\n",
    "        offline_results.eval()\n",
    "        bars_init[i], y_init[0][i], y_init[1][i] = offline_results.return_loss(\"init\")\n",
    "        bars_opt[i], y_opt[0][i], y_opt[1][i] = offline_results.return_loss(\"opt\")\n"
   ]
  },
  {
   "cell_type": "code",
   "execution_count": null,
   "metadata": {},
   "outputs": [],
   "source": [
    "# offline\n",
    "# width of the bars\n",
    "barWidth = 0.2\n",
    "\n",
    "yer_init = (list(np.subtract(bars_init, y_init[0]).transpose()), list(np.subtract(y_init[1], bars_init).transpose()))\n",
    "yer_opt = (list(np.subtract(bars_opt, y_opt[0]).transpose()), list(np.subtract(y_opt[1], bars_opt).transpose()))\n",
    "\n",
    "# The x position of bars\n",
    "r1 = np.arange(len(bars_init))\n",
    "r2 = [x + 1.5*barWidth for x in r1]\n",
    "\n",
    "# Create blue bars\n",
    "plt.bar(r1, bars_init, width = barWidth, color = 'tomato', edgecolor = 'black', yerr=yer_init, capsize=5, label='Initial model')\n",
    " \n",
    "# Create cyan bars\n",
    "plt.bar(r2, bars_opt, width = barWidth, color = 'slateblue', edgecolor = 'black', yerr=yer_opt, capsize=5, label='Off-policy optimization model')\n",
    "\n",
    "\n",
    "# general layout\n",
    "plt.xticks([r + barWidth for r in range(len(bars_init))], ['Wis', 'Cpu','Price','Friday', 'Ds', 'Zurich'])\n",
    "plt.ylabel('Absolute Loss')\n",
    "plt.xlabel('Data sets')\n",
    "plt.legend(loc='upper center', bbox_to_anchor= (0.5, 1.27))\n",
    "\n",
    "# plt.grid()\n",
    "# Show graphic\n",
    "fig = plt.gcf()\n",
    "plt.show()\n",
    "fig.savefig(dir_ + 'abs_offline_srm.png',bbox_inches='tight')"
   ]
  },
  {
   "cell_type": "code",
   "execution_count": 36,
   "metadata": {},
   "outputs": [
    {
     "name": "stdout",
     "output_type": "stream",
     "text": [
      "[4.0, 8.0, 16.0]\n"
     ]
    },
    {
     "data": {
      "image/png": "[encoded data removed]",
      "text/plain": [
       "<Figure size 432x288 with 1 Axes>"
      ]
     },
     "metadata": {
      "needs_background": "light"
     },
     "output_type": "display_data"
    }
   ],
   "source": [
    "# time 1\n",
    "# width of the bars\n",
    "barWidth = 0.4\n",
    " \n",
    "name = \"black_friday\"\n",
    "n = 0\n",
    "h = 1\n",
    "data_file = dir_ + name + \"_online_validation.txt\"\n",
    "online_results = EvaluatorOnline(data_file, 0.05, True)\n",
    "online_results.eval()\n",
    "bars1, k_ = online_results.getTime(\"cats\", n, h)\n",
    "print(k_)\n",
    " \n",
    "# The x position of bars\n",
    "r1 = np.arange(len(bars1))\n",
    "\n",
    "# Create blue bars\n",
    "plt.bar(r1+barWidth, bars1, width = barWidth, color = 'indigo', edgecolor = 'black', label='Time(s)')\n",
    " \n",
    "\n",
    "# general layout\n",
    "plt.xticks([r + barWidth for r in range(len(bars1))], ['$\\dfrac{1}{2^2}$','$\\dfrac{1}{2^3}$','$\\dfrac{1}{2^4}$','$\\dfrac{1}{2^5}$','$\\dfrac{1}{2^6}$','$\\dfrac{1}{2^7}$','$\\dfrac{1}{2^8}$','$\\dfrac{1}{2^9}$'])\n",
    "plt.ylabel('Training time(s)')\n",
    "plt.xlabel('Discretization scale ($\\dfrac{1}{K}$)')\n",
    "# plt.legend(loc='upper center', bbox_to_anchor= (0.5, 1.18))\n",
    "\n",
    "# plt.grid()\n",
    "# Show graphic\n",
    "fig = plt.gcf()\n",
    "plt.show()\n",
    "fig.savefig(dir_ + 'timen.png',bbox_inches='tight')"
   ]
  },
  {
   "cell_type": "code",
   "execution_count": 37,
   "metadata": {},
   "outputs": [
    {
     "name": "stdout",
     "output_type": "stream",
     "text": [
      "[ 0.0625  0.125   0.25  ]\n"
     ]
    },
    {
     "data": {
      "image/png": "[encoded data removed]",
      "text/plain": [
       "<Figure size 432x288 with 1 Axes>"
      ]
     },
     "metadata": {
      "needs_background": "light"
     },
     "output_type": "display_data"
    }
   ],
   "source": [
    "# time 2\n",
    "# width of the bars\n",
    "barWidth = 0.4\n",
    "\n",
    "name = \"black_friday\"\n",
    "n = 16\n",
    "h = 0\n",
    "data_file = dir_ + name + \"_online_validation.txt\"\n",
    "online_results = EvaluatorOnline(data_file, 0.05, True)\n",
    "online_results.eval()\n",
    "bars1, h_ = online_results.getTime(\"cats\", n, h)\n",
    "print(h_ / (np.ones(len(h_)) * n))\n",
    " \n",
    "# The x position of bars\n",
    "r1 = np.arange(len(bars1))\n",
    "\n",
    "# Create blue bars\n",
    "plt.bar(r1+barWidth, bars1, width = barWidth, color = 'indigo', edgecolor = 'black', label='Time(s)')\n",
    " \n",
    "\n",
    "# general layout\n",
    "plt.xticks([r + barWidth for r in range(len(bars1))], ['$\\dfrac{1}{2^{13}}$','$\\dfrac{1}{2^{12}}$','$\\dfrac{1}{2^{11}}$','$\\dfrac{1}{2^{10}}$','$\\dfrac{1}{2^{9}}$','$\\dfrac{1}{2^{8}}$','$\\dfrac{1}{2^{7}}$','$\\dfrac{1}{2^{6}}$'])\n",
    "plt.ylabel('Training time(s)')\n",
    "plt.xlabel('Bandwidth ($h$)')\n",
    "# plt.legend(loc='upper center', bbox_to_anchor= (0.5, 1))\n",
    "\n",
    "# plt.grid()\n",
    "# Show graphic\n",
    "fig = plt.gcf()\n",
    "plt.show()\n",
    "fig.savefig('timeh.png',bbox_inches='tight')"
   ]
  },
  {
   "cell_type": "code",
   "execution_count": 38,
   "metadata": {},
   "outputs": [
    {
     "name": "stdout",
     "output_type": "stream",
     "text": [
      "[4.0, 8.0, 16.0]\n",
      "[2.0, 4.0, 8.0]\n"
     ]
    },
    {
     "data": {
      "image/png": "[encoded data removed]",
      "text/plain": [
       "<Figure size 432x288 with 1 Axes>"
      ]
     },
     "metadata": {
      "needs_background": "light"
     },
     "output_type": "display_data"
    }
   ],
   "source": [
    "# time 3 \n",
    "# width of the bars\n",
    "barWidth = 0.4\n",
    "\n",
    "name = \"black_friday\"\n",
    "n = 0\n",
    "h = 1\n",
    "data_file = dir_ + name + \"_online_validation.txt\"\n",
    "online_results = EvaluatorOnline(data_file, 0.05, True)\n",
    "online_results.eval()\n",
    "bars1, k_ = online_results.getTime(\"cats\", n, h)\n",
    "print(k_)\n",
    "n = 0\n",
    "h = 0\n",
    "bars2, k_2 = online_results.getTime(\"disc_linear\", n, h)\n",
    "print(k_2)\n",
    "\n",
    "\n",
    "# The x position of bars\n",
    "r1 = np.arange(len(bars1))\n",
    "r2 = [x + barWidth for x in r1]\n",
    "\n",
    "# Create blue bars\n",
    "plt.bar(r1, bars1, width = barWidth, color = 'indigo', edgecolor = 'black', label='CATS')\n",
    " \n",
    "# Create cyan bars\n",
    "plt.bar(r2, bars2, width = barWidth, color = 'chocolate', edgecolor = 'black', label='Discretized Linear')\n",
    "\n",
    "\n",
    "# general layout\n",
    "plt.xticks([r + barWidth for r in range(len(bars1))], ['$\\dfrac{1}{2^2}$','$\\dfrac{1}{2^3}$','$\\dfrac{1}{2^4}$','$\\dfrac{1}{2^5}$','$\\dfrac{1}{2^6}$','$\\dfrac{1}{2^7}$','$\\dfrac{1}{2^8}$','$\\dfrac{1}{2^9}$'\n",
    "                                                      ,'$\\dfrac{1}{2^{10}}$','$\\dfrac{1}{2^{11}}$','$\\dfrac{1}{2^{12}}$'])\n",
    "plt.ylabel('Training time(s)')\n",
    "plt.xlabel('Discretization scale ($\\dfrac{1}{K}$)')\n",
    "plt.legend(loc='upper center', bbox_to_anchor= (0.5, 1.28))\n",
    "\n",
    "# plt.grid()\n",
    "# Show graphic\n",
    "fig = plt.gcf()\n",
    "plt.show()\n",
    "fig.savefig('timenn.png',bbox_inches='tight')"
   ]
  },
  {
   "cell_type": "code",
   "execution_count": null,
   "metadata": {},
   "outputs": [],
   "source": []
  }
 ],
 "metadata": {
  "kernelspec": {
   "display_name": "Python 3",
   "language": "python",
   "name": "python3"
  },
  "language_info": {
   "codemirror_mode": {
    "name": "ipython",
    "version": 3
   },
   "file_extension": ".py",
   "mimetype": "text/x-python",
   "name": "python",
   "nbconvert_exporter": "python",
   "pygments_lexer": "ipython3",
   "version": "3.6.9"
  }
 },
 "nbformat": 4,
 "nbformat_minor": 2
}
