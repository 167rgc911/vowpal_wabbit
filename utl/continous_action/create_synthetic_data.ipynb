{
 "cells": [
  {
   "cell_type": "code",
   "execution_count": 8,
   "metadata": {},
   "outputs": [
    {
     "name": "stdout",
     "output_type": "stream",
     "text": [
      "min_value =  -10.64492309419889\n",
      "max_value =  0.1695026550898433\n",
      "Please update these values in the run files.\n"
     ]
    }
   ],
   "source": [
    "import numpy as np\n",
    "import math\n",
    "import gzip\n",
    "import os\n",
    "import pandas as pd\n",
    "import math\n",
    "\n",
    "n = 1000000 # number of samples\n",
    "d = 5 # dimensionality of data\n",
    "sig = 0.2 # (Gaussian) noise rate\n",
    "\n",
    "name = 'ds_{}'.format(n)\n",
    "\n",
    "fname = 'ds_synthetic_{}_{}.vw.gz'.format(n, d)\n",
    "\n",
    "'''\n",
    "Saving the data matrix in vw format\n",
    "'''\n",
    "def save_vw_reg_dataset(X, Y, ds_dir):\n",
    "    n, d = np.shape(X)\n",
    "    \n",
    "    with gzip.open(os.path.join(ds_dir, fname), 'w') as f:\n",
    "            for i in range(n):\n",
    "                st ='{} | {}\\n'.format(Y[i], ' '.join(\n",
    "                    '{}:{:.6f}'.format(j, val) for j, val in zip(range(1,d+1), X[i].data)))\n",
    "\n",
    "                f.write(st.encode())\n",
    "\n",
    "'''\n",
    "Synthetic dataset 1: w is roughly a unit vector, x_i's are standard normal\n",
    "(Y is in the range [-10, +10] with high probability)\n",
    "'''\n",
    "w = np.random.randn(d) / math.sqrt(d)\n",
    "X = np.random.randn(n, d) + d\n",
    "Y = X.dot(w) + sig*np.random.randn(n)\n",
    "\n",
    "print('min_value = ', Y.min())\n",
    "print('max_value = ', Y.max())\n",
    "print('Please update these values in the run files.')\n",
    "\n",
    "save_vw_reg_dataset(X, Y, '.')\n",
    "\n",
    "\n",
    "percent = 0.80\n",
    "ds = pd.read_csv(fname, header=None)\n",
    "ds_train = ds[0:math.floor(ds.size*percent)]\n",
    "ds_test = ds[math.floor(ds.size*percent):]\n",
    "\n",
    "ds.to_csv(name+'.dat', header = False, index=False)\n",
    "ds_train.to_csv(name+'_train.dat', header = False, index=False)\n",
    "ds_test.to_csv(name+'_test.dat', header = False, index=False)"
   ]
  },
  {
   "cell_type": "code",
   "execution_count": null,
   "metadata": {},
   "outputs": [],
   "source": []
  }
 ],
 "metadata": {
  "kernelspec": {
   "display_name": "Python 3",
   "language": "python",
   "name": "python3"
  },
  "language_info": {
   "codemirror_mode": {
    "name": "ipython",
    "version": 3
   },
   "file_extension": ".py",
   "mimetype": "text/x-python",
   "name": "python",
   "nbconvert_exporter": "python",
   "pygments_lexer": "ipython3",
   "version": "3.6.10"
  }
 },
 "nbformat": 4,
 "nbformat_minor": 2
}
