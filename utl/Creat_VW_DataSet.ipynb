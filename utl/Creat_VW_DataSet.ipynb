{
 "cells": [
  {
   "cell_type": "code",
   "execution_count": 5,
   "metadata": {},
   "outputs": [],
   "source": [
    "import csv\n",
    "import sys\n",
    "flag = 0\n",
    "name = 'zurich'\n",
    "open(name+'.dat', mode='w')\n",
    "with open(name+'.csv') as csvfile:\n",
    "    readCSV = csv.reader(csvfile, delimiter=',')\n",
    "    minv = sys.float_info.max\n",
    "    maxv = sys.float_info.min\n",
    "    for row in readCSV:\n",
    "        if (flag > 1):\n",
    "            row.insert(1,'|')\n",
    "            del row[7] #just for zurich, also for most of the data sets you have to uncomment below instead\n",
    "#             tmp = row[len(row)-1]\n",
    "#             row[len(row) - 1] = row[0]\n",
    "#             row[0] = tmp\n",
    "            if (row[0] == '|'): \n",
    "                print(flag)\n",
    "                break\n",
    "            #if (float(row[0]) > 0):\n",
    "                #print(flag)\n",
    "            with open(name+'.dat', mode='a') as employee_file:\n",
    "                employee_writer = csv.writer(employee_file, delimiter=' ', quotechar='\"', quoting=csv.QUOTE_MINIMAL)\n",
    "                employee_writer.writerow(row)\n",
    "            minv = min(minv, float(row[0]))\n",
    "            maxv = max(maxv, float(row[0]))\n",
    "        flag += 1 \n",
    "#         if (flag == 10): break\n"
   ]
  },
  {
   "cell_type": "code",
   "execution_count": 6,
   "metadata": {},
   "outputs": [
    {
     "name": "stdout",
     "output_type": "stream",
     "text": [
      "-121830.0\n",
      "7190.0\n"
     ]
    }
   ],
   "source": [
    "print(minv)\n",
    "print(maxv)"
   ]
  },
  {
   "cell_type": "code",
   "execution_count": null,
   "metadata": {},
   "outputs": [],
   "source": []
  }
 ],
 "metadata": {
  "kernelspec": {
   "display_name": "Python 3",
   "language": "python",
   "name": "python3"
  },
  "language_info": {
   "codemirror_mode": {
    "name": "ipython",
    "version": 3
   },
   "file_extension": ".py",
   "mimetype": "text/x-python",
   "name": "python",
   "nbconvert_exporter": "python",
   "pygments_lexer": "ipython3",
   "version": "3.6.10"
  }
 },
 "nbformat": 4,
 "nbformat_minor": 2
}
